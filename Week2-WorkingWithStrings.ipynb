{
 "cells": [
  {
   "cell_type": "code",
   "execution_count": null,
   "metadata": {},
   "outputs": [],
   "source": [
    "# Python3 code to demonstrate  \n",
    "# to count words in string  \n",
    "# using split() \n",
    "  \n",
    "# initializing string   \n",
    "test_string = \"Geeksforgeeks is best Computer Science Portal\"\n",
    "  \n",
    "# printing original string \n",
    "print (\"The original string is : \" +  test_string) \n",
    "  \n",
    "# using split() \n",
    "# to count words in string \n",
    "res = len(test_string.split()) \n",
    "  \n",
    "# printing result \n",
    "print (\"The number of words in string are : \" +  str(res)) "
   ]
  },
  {
   "cell_type": "code",
   "execution_count": 1,
   "metadata": {},
   "outputs": [
    {
     "name": "stdout",
     "output_type": "stream",
     "text": [
      "The original string is : Geeksforgeeks,    is best @# Computer Science Portal.!!!\n",
      "The number of words in string are : 6\n"
     ]
    }
   ],
   "source": [
    "# Python3 code to demonstrate  \n",
    "# to count words in string  \n",
    "# using regex (findall()) \n",
    "import re \n",
    "  \n",
    "# initializing string   \n",
    "test_string = \"Geeksforgeeks,    is best @# Computer Science Portal.!!!\"\n",
    "  \n",
    "# printing original string \n",
    "print (\"The original string is : \" +  test_string) \n",
    "  \n",
    "# using regex (findall()) \n",
    "# to count words in string \n",
    "res = len(re.findall(r'\\w+', test_string)) \n",
    "  \n",
    "# printing result \n",
    "print (\"The number of words in string are : \" +  str(res)) \n"
   ]
  },
  {
   "cell_type": "code",
   "execution_count": 2,
   "metadata": {},
   "outputs": [
    {
     "name": "stdout",
     "output_type": "stream",
     "text": [
      "The original string is : Geeksforgeeks,    is best @# Computer Science Portal.!!!\n",
      "The number of words in string are : 6\n"
     ]
    }
   ],
   "source": [
    "# Python3 code to demonstrate  \n",
    "# to count words in string  \n",
    "# using sum() + strip() + split() \n",
    "import string \n",
    "  \n",
    "# initializing string   \n",
    "test_string = \"Geeksforgeeks,    is best @# Computer Science Portal.!!!\"\n",
    "  \n",
    "# printing original string \n",
    "print (\"The original string is : \" +  test_string) \n",
    "  \n",
    "# using sum() + strip() + split() \n",
    "# to count words in string \n",
    "res = sum([i.strip(string.punctuation).isalpha() for i in test_string.split()]) \n",
    "  \n",
    "# printing result \n",
    "print (\"The number of words in string are : \" +  str(res)) "
   ]
  },
  {
   "cell_type": "code",
   "execution_count": null,
   "metadata": {},
   "outputs": [],
   "source": []
  }
 ],
 "metadata": {
  "kernelspec": {
   "display_name": "Python 3",
   "language": "python",
   "name": "python3"
  },
  "language_info": {
   "codemirror_mode": {
    "name": "ipython",
    "version": 3
   },
   "file_extension": ".py",
   "mimetype": "text/x-python",
   "name": "python",
   "nbconvert_exporter": "python",
   "pygments_lexer": "ipython3",
   "version": "3.7.6"
  }
 },
 "nbformat": 4,
 "nbformat_minor": 2
}
