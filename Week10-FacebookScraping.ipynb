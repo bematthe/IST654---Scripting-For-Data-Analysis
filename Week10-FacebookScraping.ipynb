{
 "cells": [
  {
   "cell_type": "code",
   "execution_count": 7,
   "metadata": {},
   "outputs": [
    {
     "name": "stdout",
     "output_type": "stream",
     "text": [
      "['admin', 'bball', 'bball2', 'class20', 'covid', 'covid2', 'covidnew', 'disney', 'fbusers', 'gasprice', 'hw2', 'lax', 'local', 'mydatabase', 'newdatabase', 'peopledb', 'peopledvl', 'twit_users', 'usgs', 'usgsnew', 'usgsnewDVL']\n",
      "['people']\n",
      "['#CokeStudioSessions is now live with @Kaskade. Download @BeApp and experience the show from the front row --> http://getbeapp.com\\nCoke Studio Sessions', '\\U0001f929\\U0001f929\\nYOUTUBE.COM\\nA year to share\\nJ Balvin\\nDecember 22, 2019 at 10:50 AM ·\\nLa vibra de diciembre es real, y si nos unimos en un mes, pa’ qué separarnos e', 'J Balvin\\nDecember 22, 2019 at 10:50 AM ·\\nLa vibra de diciembre es real, y si nos unimos en un mes, pa’ qué separarnos el resto del año ⚡⚡Lego 🙏🏻\\n#LoQu', 'Coca-Cola added 13 new photos.\\nNovember 7, 2019 at 3:52 AM ·\\nCOKE LOVE from all over the country ❤ Have you got your customized Coke bottle yet? Only ', 'Coca-Cola added 15 new photos.\\nMay 10, 2019 at 1:42 PM ·\\n¡Un fin de semana lleno de acción, emoción y muchos comics! Estuvimos presentes en el Comic C', 'Coca-Cola added 4 new photos.\\nMay 29, 2018 at 10:00 PM ·\\nJa edhe finalistët e fundit të #CocaColacup2018. Kush do të jenë ata që do te shkojnë në fina', 'Coca-Cola added 2 new photos.\\nMay 9, 2018 at 7:48 AM ·\\nJa kush janë finalistët e #CocaColaCup2018 në qytetin e Fierit dhe Elbasanit.\\nNë Fier: Shkolla ', 'Coca-Cola added 5 new photos.\\nMarch 2, 2018 at 2:00 AM ·\\n[#vednopodpiraj] Ste tudi vi še vedno pod vtisom pravkar zaključenih Olimpijskih iger v Pjong', 'Spoznali smo našo olimpijsko reprezentanco, ki bo Slovenijo predstavljala na prihajajočih olimpijskih igrah v Pjongčangu. Poglejte, kakšno presenečenj', 'Coca-Cola added 7 new photos.\\nJanuary 15, 2018 at 5:04 AM ·\\nJeseničanke in Jeseničani so toplo sprejeli slovensko Olimpijsko baklo. 🔥 #vednopodpiraj o', 'Jeseničanke in Jeseničani so toplo sprejeli slovensko Olimpijsko baklo. 🔥 #vednopodpiraj olimpijce in olimpijonike tudi ti in nam posreduj lepe želje ', 'Coca-Cola added 9 new photos.\\nJanuary 15, 2018 at 2:38 AM ·\\nOglej si, kako smo pretekli teden v Mojstrani sprejeli Olimpijsko. Danes jo bomo prižgali ', 'Coca-Cola added 7 new photos.\\nOctober 2, 2017 at 2:00 AM ·\\n\"Preteklo soboto sem športala tudi jaz. Na Olimpijskem festivalu evropske mladine sem tekmo', 'Coca-Cola added 2 new photos.\\nJuly 14, 2017 at 2:28 AM ·\\nSabes que el verano está aquí cuando por fin llega el FIB 😎 Encantados de poder estar disfrut', 'El día de ayer fue uno de esos días largos que se hacen cortos. De esos que te dejan sin aliento pero con ganas de mucho más… Esto es lo que nos hace ', 'Coca-Cola added 100 new photos.\\nJune 28, 2017 at 5:01 AM ·\\nMisija završena, Tuzla uspješno osvježena.', 'Coca-Cola added 108 new photos.\\nJune 22, 2017 at 1:05 AM ·\\nSarajevo je našu Coca-Cola porodicu dočekalo raširenih ruku. Svi koji su nam otvorili vrata', 'Coca-Cola added 57 new photos.\\nMay 26, 2017 at 6:00 AM ·\\nOsvježenje i radost Coca-Cola je odnijela u Banja Luku. Svima koji su nam otvorili vrata svog', 'Coca-Cola added 13 new photos.\\nDecember 30, 2016 at 8:28 AM ·\\nABŞ-ın Azərbaycandakı səfiri Robert Sekuta Azərbaycan Coca-Cola Bottlers şirkətinin Sulu']\n",
      "<class 'list'>\n"
     ]
    },
    {
     "data": {
      "text/plain": [
       "\"\\n# Driver code\\n# print(Convert(collection))\\n\\ndata = Convert(collection)\\nprint(type(data))\\n\\nfor i in data:\\n    data = {'text': i}\\n    dbcollection.insert_one(data)\\n\\ncoll = db.mycollection\\ndocs = coll.find()\\ndoclist = list(docs)\\nmsglist = [doc['text'] for doc in doclist if 'text' in doc.keys()]\\nprint(len(msglist))\\nprint(msglist)\\n\""
      ]
     },
     "execution_count": 7,
     "metadata": {},
     "output_type": "execute_result"
    }
   ],
   "source": [
    "# Author: John Monroe\n",
    "# Date: 3 may 2020\n",
    "# Assignment:  facebook-scraper\n",
    "# Reference:  https://pypi.org/project/facebook-scraper/\n",
    "\n",
    "#  must first run:   pip install facebook-scraper\n",
    "\n",
    "import DB_fn\n",
    "from facebook_scraper import get_posts\n",
    "from pymongo import MongoClient\n",
    "from DB_fn import save_to_DB\n",
    "\n",
    "client = MongoClient('localhost', 27017)\n",
    "print(client.list_database_names())\n",
    "db = client.mydatabase\n",
    "dbcollection = db.mycollection\n",
    "print(db.list_collection_names())\n",
    "\n",
    "\n",
    "collection = []\n",
    "for post in get_posts('cocacola', pages=5):\n",
    "    collection.append(post['text'][:150])\n",
    "    # collection.append(post)\n",
    "\n",
    "print(collection)\n",
    "print(type(collection))\n",
    "\n",
    "\n",
    "# Python Convert Collection List to Dictionary\n",
    "def Convert(collection):\n",
    "    global res_dct\n",
    "    res_dct = {collection[i]: collection[i + 1] for i in range(0, len(collection), 2)}\n",
    "    # print({collection[i]: collection[i + 1] for i in range(0, len(collection), 2)})\n",
    "    return res_dct\n",
    "\n",
    "'''\n",
    "# Driver code\n",
    "# print(Convert(collection))\n",
    "\n",
    "data = Convert(collection)\n",
    "print(type(data))\n",
    "\n",
    "for i in data:\n",
    "    data = {'text': i}\n",
    "    dbcollection.insert_one(data)\n",
    "\n",
    "coll = db.mycollection\n",
    "docs = coll.find()\n",
    "doclist = list(docs)\n",
    "msglist = [doc['text'] for doc in doclist if 'text' in doc.keys()]\n",
    "print(len(msglist))\n",
    "print(msglist)\n",
    "'''\n"
   ]
  },
  {
   "cell_type": "code",
   "execution_count": 1,
   "metadata": {},
   "outputs": [
    {
     "ename": "NameError",
     "evalue": "name 'get_posts' is not defined",
     "output_type": "error",
     "traceback": [
      "\u001b[1;31m---------------------------------------------------------------------------\u001b[0m",
      "\u001b[1;31mNameError\u001b[0m                                 Traceback (most recent call last)",
      "\u001b[1;32m<ipython-input-1-1723adc77233>\u001b[0m in \u001b[0;36m<module>\u001b[1;34m\u001b[0m\n\u001b[0;32m      1\u001b[0m \u001b[0mcollection\u001b[0m \u001b[1;33m=\u001b[0m \u001b[1;33m[\u001b[0m\u001b[1;33m]\u001b[0m\u001b[1;33m\u001b[0m\u001b[1;33m\u001b[0m\u001b[0m\n\u001b[1;32m----> 2\u001b[1;33m \u001b[1;32mfor\u001b[0m \u001b[0mpost\u001b[0m \u001b[1;32min\u001b[0m \u001b[0mget_posts\u001b[0m\u001b[1;33m(\u001b[0m\u001b[1;34m'SFR'\u001b[0m\u001b[1;33m,\u001b[0m \u001b[0mpages\u001b[0m\u001b[1;33m=\u001b[0m\u001b[1;36m5\u001b[0m\u001b[1;33m)\u001b[0m\u001b[1;33m:\u001b[0m\u001b[1;33m\u001b[0m\u001b[1;33m\u001b[0m\u001b[0m\n\u001b[0m\u001b[0;32m      3\u001b[0m     \u001b[0mcollection\u001b[0m\u001b[1;33m.\u001b[0m\u001b[0mappend\u001b[0m\u001b[1;33m(\u001b[0m\u001b[0mpost\u001b[0m\u001b[1;33m[\u001b[0m\u001b[1;34m'text'\u001b[0m\u001b[1;33m]\u001b[0m\u001b[1;33m[\u001b[0m\u001b[1;33m:\u001b[0m\u001b[1;36m150\u001b[0m\u001b[1;33m]\u001b[0m\u001b[1;33m)\u001b[0m\u001b[1;33m\u001b[0m\u001b[1;33m\u001b[0m\u001b[0m\n\u001b[0;32m      4\u001b[0m     \u001b[1;31m# collection.append(post)\u001b[0m\u001b[1;33m\u001b[0m\u001b[1;33m\u001b[0m\u001b[1;33m\u001b[0m\u001b[0m\n\u001b[0;32m      5\u001b[0m \u001b[1;33m\u001b[0m\u001b[0m\n",
      "\u001b[1;31mNameError\u001b[0m: name 'get_posts' is not defined"
     ]
    }
   ],
   "source": [
    "collection = []\n",
    "for post in get_posts('SFR', pages=5):\n",
    "    collection.append(post['text'][:150])\n",
    "    # collection.append(post)\n",
    "\n",
    "print(collection)\n",
    "print(type(collection))"
   ]
  },
  {
   "cell_type": "code",
   "execution_count": 2,
   "metadata": {},
   "outputs": [
    {
     "ename": "NameError",
     "evalue": "name 'MongoClient' is not defined",
     "output_type": "error",
     "traceback": [
      "\u001b[1;31m---------------------------------------------------------------------------\u001b[0m",
      "\u001b[1;31mNameError\u001b[0m                                 Traceback (most recent call last)",
      "\u001b[1;32m<ipython-input-2-29fc9285b8f3>\u001b[0m in \u001b[0;36m<module>\u001b[1;34m\u001b[0m\n\u001b[1;32m----> 1\u001b[1;33m \u001b[0mclient\u001b[0m \u001b[1;33m=\u001b[0m \u001b[0mMongoClient\u001b[0m\u001b[1;33m(\u001b[0m\u001b[1;34m'localhost'\u001b[0m\u001b[1;33m,\u001b[0m \u001b[1;36m27017\u001b[0m\u001b[1;33m)\u001b[0m\u001b[1;33m\u001b[0m\u001b[1;33m\u001b[0m\u001b[0m\n\u001b[0m\u001b[0;32m      2\u001b[0m \u001b[0mprint\u001b[0m\u001b[1;33m(\u001b[0m\u001b[0mclient\u001b[0m\u001b[1;33m.\u001b[0m\u001b[0mlist_database_names\u001b[0m\u001b[1;33m(\u001b[0m\u001b[1;33m)\u001b[0m\u001b[1;33m)\u001b[0m\u001b[1;33m\u001b[0m\u001b[1;33m\u001b[0m\u001b[0m\n\u001b[0;32m      3\u001b[0m \u001b[0mdb\u001b[0m \u001b[1;33m=\u001b[0m \u001b[0mclient\u001b[0m\u001b[1;33m.\u001b[0m\u001b[0mmydatabase\u001b[0m\u001b[1;33m\u001b[0m\u001b[1;33m\u001b[0m\u001b[0m\n\u001b[0;32m      4\u001b[0m \u001b[0mdbcollection\u001b[0m \u001b[1;33m=\u001b[0m \u001b[0mdb\u001b[0m\u001b[1;33m.\u001b[0m\u001b[0mmycollection\u001b[0m\u001b[1;33m\u001b[0m\u001b[1;33m\u001b[0m\u001b[0m\n\u001b[0;32m      5\u001b[0m \u001b[0mprint\u001b[0m\u001b[1;33m(\u001b[0m\u001b[0mdb\u001b[0m\u001b[1;33m.\u001b[0m\u001b[0mlist_collection_names\u001b[0m\u001b[1;33m(\u001b[0m\u001b[1;33m)\u001b[0m\u001b[1;33m)\u001b[0m\u001b[1;33m\u001b[0m\u001b[1;33m\u001b[0m\u001b[0m\n",
      "\u001b[1;31mNameError\u001b[0m: name 'MongoClient' is not defined"
     ]
    }
   ],
   "source": [
    "client = MongoClient('localhost', 27017)\n",
    "print(client.list_database_names())\n",
    "db = client.mydatabase\n",
    "dbcollection = db.mycollection\n",
    "print(db.list_collection_names())\n",
    "\n",
    "\n",
    "collection = []\n",
    "for post in get_posts('SFR', pages=5):\n",
    "    collection.append(post['text'][:150])\n",
    "    # collection.append(post)\n",
    "\n",
    "print(collection)\n",
    "print(type(collection))\n",
    "\n",
    "\n",
    "# Python Convert Collection List to Dictionary\n",
    "def Convert(collection):\n",
    "    global res_dct\n",
    "    res_dct = {collection[i]: collection[i + 1] for i in range(0, len(collection), 2)}\n",
    "    # print({collection[i]: collection[i + 1] for i in range(0, len(collection), 2)})\n",
    "    return res_dct"
   ]
  },
  {
   "cell_type": "code",
   "execution_count": null,
   "metadata": {},
   "outputs": [],
   "source": []
  }
 ],
 "metadata": {
  "kernelspec": {
   "display_name": "Python 3",
   "language": "python",
   "name": "python3"
  },
  "language_info": {
   "codemirror_mode": {
    "name": "ipython",
    "version": 3
   },
   "file_extension": ".py",
   "mimetype": "text/x-python",
   "name": "python",
   "nbconvert_exporter": "python",
   "pygments_lexer": "ipython3",
   "version": "3.7.6"
  }
 },
 "nbformat": 4,
 "nbformat_minor": 4
}
