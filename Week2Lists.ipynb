{
 "cells": [
  {
   "cell_type": "code",
   "execution_count": null,
   "metadata": {},
   "outputs": [],
   "source": [
    "#This program gets info from user and calculates pay\n",
    "#gets the hours and rate\n",
    "hours=input('Enter Hours: ')\n",
    "rate=input('Enter Rate: ')\n",
    "#compute the pay by converting the input strings and multiplying\n",
    "pay=int(hours) * float(rate)\n",
    "print('Pay: ',pay)"
   ]
  },
  {
   "cell_type": "code",
   "execution_count": 4,
   "metadata": {},
   "outputs": [
    {
     "name": "stdout",
     "output_type": "stream",
     "text": [
      "4\n",
      "3\n",
      "2\n"
     ]
    }
   ],
   "source": [
    "# Python3 program to count the number of times \n",
    "# an object appears in a list using count() method  \n",
    "  \n",
    "list1 = [1, 1, 1, 2, 3, 2, 1]  \n",
    "  \n",
    "# Counts the number of times 1 appears in list1 \n",
    "print(list1.count(1))  \n",
    "  \n",
    "list2 = ['a', 'a', 'a', 'b', 'b', 'a', 'c', 'b']  \n",
    "  \n",
    "# Counts the number of times 'b' appears in list2 \n",
    "print(list2.count('b'))  \n",
    "  \n",
    "list3 = ['Cat', 'Bat', 'Sat', 'Cat', 'cat', 'Mat'] \n",
    "  \n",
    "# Counts the number of times 'Cat' appears in list3 \n",
    "print(list3.count('Cat')) "
   ]
  },
  {
   "cell_type": "code",
   "execution_count": 6,
   "metadata": {},
   "outputs": [
    {
     "ename": "TypeError",
     "evalue": "count() takes exactly one argument (2 given)",
     "output_type": "error",
     "traceback": [
      "\u001b[1;31m---------------------------------------------------------------------------\u001b[0m",
      "\u001b[1;31mTypeError\u001b[0m                                 Traceback (most recent call last)",
      "\u001b[1;32m<ipython-input-6-65c1f6f8284b>\u001b[0m in \u001b[0;36m<module>\u001b[1;34m\u001b[0m\n\u001b[0;32m      5\u001b[0m \u001b[1;33m\u001b[0m\u001b[0m\n\u001b[0;32m      6\u001b[0m \u001b[1;31m# Error when two parameters is passed.\u001b[0m\u001b[1;33m\u001b[0m\u001b[1;33m\u001b[0m\u001b[1;33m\u001b[0m\u001b[0m\n\u001b[1;32m----> 7\u001b[1;33m \u001b[0mprint\u001b[0m\u001b[1;33m(\u001b[0m\u001b[0mlist1\u001b[0m\u001b[1;33m.\u001b[0m\u001b[0mcount\u001b[0m\u001b[1;33m(\u001b[0m\u001b[1;36m1\u001b[0m\u001b[1;33m,\u001b[0m \u001b[1;36m2\u001b[0m\u001b[1;33m)\u001b[0m\u001b[1;33m)\u001b[0m\u001b[1;33m\u001b[0m\u001b[1;33m\u001b[0m\u001b[0m\n\u001b[0m",
      "\u001b[1;31mTypeError\u001b[0m: count() takes exactly one argument (2 given)"
     ]
    }
   ],
   "source": [
    "# Python3 program to demonstrate \n",
    "# the error in count() method \n",
    "  \n",
    "list1 = [1, 1, 1, 2, 3, 2, 1]  \n",
    "  \n",
    "# Error when two parameters is passed.  \n",
    "print(list1.count(1, 2))   "
   ]
  },
  {
   "cell_type": "code",
   "execution_count": 5,
   "metadata": {},
   "outputs": [
    {
     "name": "stdout",
     "output_type": "stream",
     "text": [
      "2\n",
      "2\n"
     ]
    }
   ],
   "source": [
    "# Python3 program to count the number of times \n",
    "# an object appears in a list using count() method  \n",
    "  \n",
    "list1 = [ ('Cat', 'Bat'), ('Sat', 'Cat'), ('Cat', 'Bat'), \n",
    "          ('Cat', 'Bat', 'Sat'), [1, 2], [1, 2, 3], [1, 2] ] \n",
    "  \n",
    "# Counts the number of times 'Cat' appears in list1 \n",
    "print(list1.count(('Cat', 'Bat'))) \n",
    "  \n",
    "# Count the number of times sublist \n",
    "# '[1, 2]' appears in list1 \n",
    "print(list1.count([1, 2])) "
   ]
  },
  {
   "cell_type": "code",
   "execution_count": 7,
   "metadata": {},
   "outputs": [
    {
     "name": "stdout",
     "output_type": "stream",
     "text": [
      "[['Sat', 2], ['Bat', 1], ['Cat', 3], ['Mat', 1]]\n",
      "{'Sat': 2, 'Bat': 1, 'Cat': 3, 'Mat': 1}\n"
     ]
    }
   ],
   "source": [
    "# Python3 program to count the number of times \n",
    "# an object appears in a list using count() method  \n",
    "  \n",
    "lst = ['Cat', 'Bat', 'Sat', 'Cat', 'Mat', 'Cat', 'Sat'] \n",
    "  \n",
    "# To get the number of occurrences  \n",
    "# of each item in a list \n",
    "print ([ [l, lst.count(l)] for l in set(lst)]) \n",
    "  \n",
    "# To get the number of occurrences  \n",
    "# of each item in a dictionary \n",
    "print (dict( (l, lst.count(l) ) for l in set(lst))) \n"
   ]
  },
  {
   "cell_type": "code",
   "execution_count": 1,
   "metadata": {},
   "outputs": [
    {
     "name": "stdout",
     "output_type": "stream",
     "text": [
      "The original string is : Geeksforgeeks is best Computer Science Portal\n",
      "The number of words in string are : 6\n"
     ]
    }
   ],
   "source": [
    "# Python3 code to demonstrate  \n",
    "# to count words in string  \n",
    "# using split() \n",
    "  \n",
    "# initializing string   \n",
    "test_string = \"Geeksforgeeks is best Computer Science Portal\"\n",
    "  \n",
    "# printing original string \n",
    "print (\"The original string is : \" +  test_string) \n",
    "  \n",
    "# using split() \n",
    "# to count words in string \n",
    "res = len(test_string.split()) \n",
    "  \n",
    "# printing result \n",
    "print (\"The number of words in string are : \" +  str(res)) "
   ]
  },
  {
   "cell_type": "code",
   "execution_count": 2,
   "metadata": {},
   "outputs": [
    {
     "name": "stdout",
     "output_type": "stream",
     "text": [
      "The original string is : Geeksforgeeks,    is best @# Computer Science Portal.!!!\n",
      "The number of words in string are : 6\n"
     ]
    }
   ],
   "source": [
    "# Python3 code to demonstrate  \n",
    "# to count words in string  \n",
    "# using regex (findall()) \n",
    "import re \n",
    "  \n",
    "# initializing string   \n",
    "test_string = \"Geeksforgeeks,    is best @# Computer Science Portal.!!!\"\n",
    "  \n",
    "# printing original string \n",
    "print (\"The original string is : \" +  test_string) \n",
    "  \n",
    "# using regex (findall()) \n",
    "# to count words in string \n",
    "res = len(re.findall(r'\\w+', test_string)) \n",
    "  \n",
    "# printing result \n",
    "print (\"The number of words in string are : \" +  str(res)) \n"
   ]
  },
  {
   "cell_type": "code",
   "execution_count": 3,
   "metadata": {},
   "outputs": [
    {
     "name": "stdout",
     "output_type": "stream",
     "text": [
      "The original string is : Geeksforgeeks,    is best @# Computer Science Portal.!!!\n",
      "The number of words in string are : 6\n"
     ]
    }
   ],
   "source": [
    "# Python3 code to demonstrate  \n",
    "# to count words in string  \n",
    "# using sum() + strip() + split() \n",
    "import string \n",
    "  \n",
    "# initializing string   \n",
    "test_string = \"Geeksforgeeks,    is best @# Computer Science Portal.!!!\"\n",
    "  \n",
    "# printing original string \n",
    "print (\"The original string is : \" +  test_string) \n",
    "  \n",
    "# using sum() + strip() + split() \n",
    "# to count words in string \n",
    "res = sum([i.strip(string.punctuation).isalpha() for i in test_string.split()]) \n",
    "  \n",
    "# printing result \n",
    "print (\"The number of words in string are : \" +  str(res)) "
   ]
  },
  {
   "cell_type": "code",
   "execution_count": null,
   "metadata": {},
   "outputs": [],
   "source": []
  }
 ],
 "metadata": {
  "kernelspec": {
   "display_name": "Python 3",
   "language": "python",
   "name": "python3"
  },
  "language_info": {
   "codemirror_mode": {
    "name": "ipython",
    "version": 3
   },
   "file_extension": ".py",
   "mimetype": "text/x-python",
   "name": "python",
   "nbconvert_exporter": "python",
   "pygments_lexer": "ipython3",
   "version": "3.7.6"
  }
 },
 "nbformat": 4,
 "nbformat_minor": 2
}
